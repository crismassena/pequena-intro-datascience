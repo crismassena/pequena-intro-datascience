{
 "cells": [
  {
   "cell_type": "markdown",
   "metadata": {},
   "source": [
    "# Algebra Linear e Numpy\n",
    "\n",
    "Álgebra linear é um ramo da matemática muito utilizado em Ciências de Dados, principalmente em *Machine Learning*. Sua representação contínua faz-se muito útil para o campo. \n",
    "\n",
    "Utilizando Python, temos o pacote Numpy, que consegue aplicar os conceitos de álgebra facilmente, de forma a facilitar a vida do desenvolvedor da área. o principal objeto do Numpy são os arrays multidimensionais, que podem ser criados através da função ndarray. \n",
    "\n",
    "Para cada conceito apresentado neste tutorial, serão apresentados alguns exemplos em Numpy"
   ]
  },
  {
   "cell_type": "code",
   "execution_count": 1,
   "metadata": {},
   "outputs": [],
   "source": [
    "import numpy as np"
   ]
  },
  {
   "cell_type": "markdown",
   "metadata": {},
   "source": [
    "## Tipos de objetos em Álgebra\n",
    "\n",
    "### Escalares\n",
    "Escalares são apenas números. Geralmente são utilizados para aplicar transformações a Vetores e Matrizes\n",
    "\n",
    "### Vetores\n",
    "É um arranjo ordenado de números. Pode-se identificar cada número individual por seu indíce. \n",
    "\n",
    "### Matrizes\n",
    "São arranjos bidimensionais de números. Cada elemento é identificado por dois indíces, diferente dos vetores. \n",
    "\n",
    "### Tensores\n",
    "Em alguns casos é necessário um arranjo com mais de dois eixos. É representado por uma grade e com número variável de eixos. "
   ]
  },
  {
   "cell_type": "code",
   "execution_count": 14,
   "metadata": {},
   "outputs": [
    {
     "name": "stdout",
     "output_type": "stream",
     "text": [
      "Propriedades do vetor: Tamanho: 5, Dimensão(5,)\n",
      "Propriedades da matriz: Tamanho: 6, Dimensão(2, 3)\n",
      "Propriedades do tensor: Tamanho: 6, Dimensão(2, 3)\n"
     ]
    }
   ],
   "source": [
    "# Escalar em python\n",
    "a = 1\n",
    "b = 2.5\n",
    "c = 1/4\n",
    "\n",
    "# Vetores\n",
    "d = np.array([1, 2, 3, 4, 5])\n",
    "\n",
    "# Matrizes\n",
    "e = np.array([[4, 5, 6],[9, 8, 7]])\n",
    "\n",
    "# Tensores\n",
    "\n",
    "f = np.array([[1,2,3], [4,5,6],[7,8,9]])\n",
    "\n",
    "# Propriedades Tamanho e dimensões\n",
    "print(\"Propriedades do vetor: Tamanho: {}, Dimensão{}\".format(d.size, d.shape))\n",
    "print(\"Propriedades da matriz: Tamanho: {}, Dimensão{}\".format(e.size, e.shape))\n",
    "print(\"Propriedades do tensor: Tamanho: {}, Dimensão{}\".format(e.size, e.shape))"
   ]
  },
  {
   "cell_type": "markdown",
   "metadata": {},
   "source": [
    "## Criação de arranjos (arrays)\n",
    "\n",
    "### Usando sequência\n",
    "\n",
    "### Vetores aleatórios\n",
    "\n",
    "### Vetor de zeros e uns"
   ]
  },
  {
   "cell_type": "code",
   "execution_count": 29,
   "metadata": {},
   "outputs": [
    {
     "name": "stdout",
     "output_type": "stream",
     "text": [
      "[[0.09927016 0.79506278]\n",
      " [0.67400116 0.29077484]]\n",
      "[2 8 3 7 1 1 6 1 3 7]\n",
      "[[0.69796714 0.9718335 ]\n",
      " [0.79465587 0.38857214]]\n"
     ]
    }
   ],
   "source": [
    "# Usando sequência\n",
    "np.arange(10)\n",
    "\n",
    "# Vetores aleatorios\n",
    "\n",
    "# Valorios aleatórios de um determinado formato\n",
    "print(np.random.rand(2,2))\n",
    "\n",
    "# Retorna um vetor de inteiros entre menor e maior, excluindo maior\n",
    "print(np.random.randint(low=0, high=10, size=10))\n",
    "\n",
    "# Retorna um vetor de números flutuantes\n",
    "print(np.random.random((2,2)))\n",
    "\n",
    "# Cria um vetor de zeros com determinado formato\n",
    "np.zeros((3,3))\n",
    "\n",
    "# Cria um vetor de uns com determinado formato\n",
    "np.ones(())"
   ]
  },
  {
   "cell_type": "markdown",
   "metadata": {},
   "source": [
    "## Operações\n",
    "\n",
    "### Soma de matrizes e vetores"
   ]
  },
  {
   "cell_type": "markdown",
   "metadata": {},
   "source": [
    "### Multiplicação de matrizes e vetores"
   ]
  },
  {
   "cell_type": "markdown",
   "metadata": {},
   "source": [
    "### Transposição de matrizes"
   ]
  },
  {
   "cell_type": "markdown",
   "metadata": {},
   "source": [
    "### Matriz identidade e Matriz inversa\n",
    "\n",
    "### Dependência Linear\n",
    "\n",
    "### Norma ou módulo"
   ]
  },
  {
   "cell_type": "markdown",
   "metadata": {},
   "source": [
    "## Tipos especiais de matrizes e vetores\n",
    "\n",
    "### Unitário\n",
    "### Diagnonal\n",
    "### Simétrico\n",
    "### Ortogonal\n",
    "\n"
   ]
  },
  {
   "cell_type": "markdown",
   "metadata": {},
   "source": [
    "## Decomposição em valores singulares (Eigendecomposition)\n",
    "\n",
    "### Autovetores (Eigenvectors)\n",
    "### Autovalores (Eigenvalues)"
   ]
  },
  {
   "cell_type": "markdown",
   "metadata": {},
   "source": [
    "## Traço"
   ]
  },
  {
   "cell_type": "markdown",
   "metadata": {},
   "source": [
    "## Inversa de Moore-Penrose\n"
   ]
  },
  {
   "cell_type": "markdown",
   "metadata": {},
   "source": [
    "## Determinante"
   ]
  },
  {
   "cell_type": "markdown",
   "metadata": {},
   "source": [
    "## Referências\n",
    "\n",
    "### Em Português\n",
    "\n",
    "1. https://pt.khanacademy.org/math/linear-algebra\n",
    "2. https://www.youtube.com/watch?v=pbFZW1eTnkk\n",
    "\n",
    "### Em Inglês\n",
    "\n",
    "1. http://www.deeplearningbook.org/contents/linear_algebra.html\n",
    "2. https://www.analyticsvidhya.com/blog/2017/05/comprehensive-guide-to-linear-algebra/\n",
    "3. https://towardsdatascience.com/boost-your-data-sciences-skills-learn-linear-algebra-2c30fdd008cf\n"
   ]
  },
  {
   "cell_type": "code",
   "execution_count": null,
   "metadata": {},
   "outputs": [],
   "source": []
  }
 ],
 "metadata": {
  "kernelspec": {
   "display_name": "Python 3",
   "language": "python",
   "name": "python3"
  },
  "language_info": {
   "codemirror_mode": {
    "name": "ipython",
    "version": 3
   },
   "file_extension": ".py",
   "mimetype": "text/x-python",
   "name": "python",
   "nbconvert_exporter": "python",
   "pygments_lexer": "ipython3",
   "version": "3.5.3"
  }
 },
 "nbformat": 4,
 "nbformat_minor": 2
}
