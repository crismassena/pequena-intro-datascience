{
 "cells": [
  {
   "cell_type": "code",
   "execution_count": 21,
   "metadata": {
    "slideshow": {
     "slide_type": "skip"
    }
   },
   "outputs": [
    {
     "data": {
      "text/plain": [
       "{'height': 600, 'scroll': True, 'width': 1000}"
      ]
     },
     "execution_count": 21,
     "metadata": {},
     "output_type": "execute_result"
    }
   ],
   "source": [
    "from notebook.services.config import ConfigManager\n",
    "cm = ConfigManager()\n",
    "cm.update('livereveal', {\n",
    "              'width': 1000,\n",
    "              'height': 600,\n",
    "              'scroll': True,\n",
    "})"
   ]
  },
  {
   "cell_type": "markdown",
   "metadata": {
    "slideshow": {
     "slide_type": "slide"
    }
   },
   "source": [
    "# NumPy\n",
    "\n",
    "Álgebra linear é um ramo da matemática muito utilizado em Ciências de Dados, principalmente em *Machine Learning*. Sua representação contínua faz-se muito útil para o campo. \n",
    "\n",
    "Utilizando Python, temos o pacote Numpy, que consegue aplicar os conceitos de álgebra facilmente, de forma a facilitar a vida do desenvolvedor da área. o principal objeto do Numpy são os arrays multidimensionais, que podem ser criados através da função ndarray. \n",
    "\n",
    "Para cada conceito apresentado neste tutorial, serão apresentados alguns exemplos em Numpy.\n",
    "\n",
    "[Documentação em inglês do NumPy](https://docs.scipy.org/doc/numpy-1.14.0/reference/index.html)\n",
    "\n",
    "[Guia do usuário NumPy, em inglês](https://docs.scipy.org/doc/numpy-1.14.0/user/index.html)\n",
    "\n",
    "[Documentação do pyscience-brasil, em português](http://pyscience-brasil.wikidot.com/module:numpy#toc2)"
   ]
  },
  {
   "cell_type": "code",
   "execution_count": 22,
   "metadata": {
    "slideshow": {
     "slide_type": "fragment"
    }
   },
   "outputs": [],
   "source": [
    "import numpy as np"
   ]
  },
  {
   "cell_type": "markdown",
   "metadata": {
    "slideshow": {
     "slide_type": "slide"
    }
   },
   "source": [
    "## Tipos de objetos em Álgebra\n",
    "\n",
    "### Escalares\n",
    "\n",
    "[Escalares](https://docs.scipy.org/doc/numpy/reference/arrays.scalars.html) são apenas números. Geralmente são utilizados para aplicar transformações a Vetores e Matrizes\n",
    "\n",
    "### Vetores\n",
    "É um arranjo ordenado de números. Pode-se identificar cada número individual por seu indíce. \n",
    "\n",
    "### Matrizes\n",
    "São arranjos bidimensionais de números. Cada elemento é identificado por dois indíces, diferente dos vetores. \n",
    "\n",
    "### Tensores\n",
    "Em alguns casos é necessário um arranjo com mais de dois eixos. É representado por uma grade e com número variável de eixos. "
   ]
  },
  {
   "cell_type": "code",
   "execution_count": 23,
   "metadata": {
    "slideshow": {
     "slide_type": "subslide"
    }
   },
   "outputs": [
    {
     "name": "stdout",
     "output_type": "stream",
     "text": [
      "Vetor \n",
      " [1 2 3 4 5]\n",
      "\n",
      "Matriz \n",
      " [[4 5 6]\n",
      " [9 8 7]]\n",
      "\n",
      "Tensor \n",
      " [[1 2 3]\n",
      " [4 5 6]\n",
      " [7 8 9]]\n",
      "\n",
      "Propriedades do vetor: Tamanho: 5, Dimensão(5,)\n",
      "Propriedades da matriz: Tamanho: 6, Dimensão(2, 3)\n",
      "Propriedades do tensor: Tamanho: 9, Dimensão(3, 3)\n"
     ]
    }
   ],
   "source": [
    "# Escalar em python\n",
    "a = 1\n",
    "b = 2.5\n",
    "c = 1/4\n",
    "\n",
    "# Vetores\n",
    "vetor = np.array([1, 2, 3, 4, 5])\n",
    "print(\"Vetor \\n {}\\n\".format(vetor))\n",
    "\n",
    "# Matrizes\n",
    "matriz = np.array([[4, 5, 6],[9, 8, 7]])\n",
    "print(\"Matriz \\n {}\\n\".format(matriz))\n",
    "\n",
    "# Tensores\n",
    "tensor = np.array([[1,2,3], [4,5,6],[7,8,9]])\n",
    "print(\"Tensor \\n {}\\n\".format(tensor))"
   ]
  },
  {
   "cell_type": "markdown",
   "metadata": {
    "slideshow": {
     "slide_type": "slide"
    }
   },
   "source": [
    "## Criação de arranjos (arrays)\n",
    "\n",
    "Existem diversas maneiras de se criar arrays e cada uma delas possui um propósito específico. Abaixo segue a documentção em \n",
    "\n",
    "[Routinas para criação de arrays](https://docs.scipy.org/doc/numpy-1.14.0/reference/routines.array-creation.html)\n",
    "\n",
    "### Usando sequência\n",
    "[Documentação do Numpy arange](https://docs.scipy.org/doc/numpy-.14.0/reference/generated/numpy.arange.html)\n",
    "\n",
    "### Vetores aleatórios\n",
    "[Funções diversas para geração de vetores aleatórios](https://docs.scipy.org/doc/numpy/reference/routines.random.html)\n",
    "\n",
    "### Vetor de zeros, uns e vazios\n",
    "[Gerador de arrays de zeros](https://docs.scipy.org/doc/numpy/reference/generated/numpy.zeros.html#numpy.zeros)\n",
    "\n",
    "[Gerador de arrays de uns](https://docs.scipy.org/doc/numpy/reference/generated/numpy.ones.html#numpy.ones)\n",
    "\n",
    "[Vazios](https://docs.scipy.org/doc/numpy/reference/generated/numpy.empty_like.html#numpy.empty)\n",
    "\n",
    "Gerar arrays com base em arrays existentes\n",
    "\n",
    "[Zeros like](https://docs.scipy.org/doc/numpy/reference/generated/numpy.zeros_like.html#numpy.zeros_like)\n",
    "\n",
    "[Uns Like](https://docs.scipy.org/doc/numpy/reference/generated/numpy.ones_like.html#numpy.ones_like)\n",
    "\n",
    "[Vazios like](https://docs.scipy.org/doc/numpy/reference/generated/numpy.empty_like.html#numpy.empty_like)\n"
   ]
  },
  {
   "cell_type": "code",
   "execution_count": 24,
   "metadata": {
    "slideshow": {
     "slide_type": "subslide"
    }
   },
   "outputs": [
    {
     "name": "stdout",
     "output_type": "stream",
     "text": [
      "Matriz aleatória 2x2\n",
      " [[0.92961609 0.31637555]\n",
      " [0.18391881 0.20456028]] \n",
      "\n"
     ]
    }
   ],
   "source": [
    "# Usando sequência\n",
    "np.arange(10)\n",
    "\n",
    "# Vetores aleatorios\n",
    "# gerando uma semente para os pseudo aleatórios\n",
    "np.random.seed(12345)\n",
    "\n",
    "# Vetores aleatórios de um determinado formato\n",
    "\n",
    "matriz_2_2 = np.random.rand(2,2)\n",
    "\n",
    "print(\"Matriz aleatória 2x2\\n {} \\n\".format(matriz_2_2))"
   ]
  },
  {
   "cell_type": "code",
   "execution_count": 25,
   "metadata": {
    "slideshow": {
     "slide_type": "fragment"
    }
   },
   "outputs": [
    {
     "name": "stdout",
     "output_type": "stream",
     "text": [
      "Vetor de inteiros aleatório entre 0 e 10, de tamanho 5\n",
      " [5 2 1 6 1]\n",
      "\n"
     ]
    }
   ],
   "source": [
    "# Retorna um vetor de inteiros entre menor e maior, excluindo maior\n",
    "\n",
    "vetor_aleatorio = np.random.randint(low=0, high=10, size=5)\n",
    "\n",
    "print(\"Vetor de inteiros aleatório entre 0 e 10, de tamanho 5\\n {}\\n\".format(vetor_aleatorio))"
   ]
  },
  {
   "cell_type": "code",
   "execution_count": 26,
   "metadata": {
    "slideshow": {
     "slide_type": "fragment"
    }
   },
   "outputs": [
    {
     "name": "stdout",
     "output_type": "stream",
     "text": [
      "Tensor aleatório de dimensões 3x4x2 \n",
      " [[[0.6531771  0.74890664]\n",
      "  [0.65356987 0.74771481]\n",
      "  [0.96130674 0.0083883 ]\n",
      "  [0.10644438 0.29870371]]\n",
      "\n",
      " [[0.65641118 0.80981255]\n",
      "  [0.87217591 0.9646476 ]\n",
      "  [0.72368535 0.64247533]\n",
      "  [0.71745362 0.46759901]]\n",
      "\n",
      " [[0.32558468 0.43964461]\n",
      "  [0.72968908 0.99401459]\n",
      "  [0.67687371 0.79082252]\n",
      "  [0.17091426 0.02684928]]]\n",
      "\n"
     ]
    }
   ],
   "source": [
    "# Retorna um vetor de números flutuantes\n",
    "\n",
    "tensor_flut = np.random.random((3,4,2))\n",
    "\n",
    "print(\"Tensor aleatório de dimensões 3x4x2 \\n {}\\n\".format(tensor_flut))"
   ]
  },
  {
   "cell_type": "code",
   "execution_count": 27,
   "metadata": {
    "slideshow": {
     "slide_type": "fragment"
    }
   },
   "outputs": [
    {
     "name": "stdout",
     "output_type": "stream",
     "text": [
      "Matriz de zeros, dimensões 5x2 \n",
      "[[0. 0.]\n",
      " [0. 0.]\n",
      " [0. 0.]\n",
      " [0. 0.]\n",
      " [0. 0.]]\n",
      " \n"
     ]
    }
   ],
   "source": [
    "# Cria um vetor de zeros com determinado formato\n",
    "vetor_zeros = np.zeros((5,2))\n",
    "print(\"Matriz de zeros, dimensões 5x2 \\n{}\\n \".format(vetor_zeros))"
   ]
  },
  {
   "cell_type": "code",
   "execution_count": 28,
   "metadata": {
    "slideshow": {
     "slide_type": "fragment"
    }
   },
   "outputs": [
    {
     "name": "stdout",
     "output_type": "stream",
     "text": [
      "Matriz de Uns, dimensões 4x3 \n",
      "[[1. 1. 1.]\n",
      " [1. 1. 1.]\n",
      " [1. 1. 1.]\n",
      " [1. 1. 1.]]\n",
      "\n"
     ]
    }
   ],
   "source": [
    "# Cria um vetor de uns com determinado formato\n",
    "matriz_uns = np.ones((4,3))\n",
    "print(\"Matriz de Uns, dimensões 4x3 \\n{}\\n\".format(matriz_uns))"
   ]
  },
  {
   "cell_type": "code",
   "execution_count": 29,
   "metadata": {
    "slideshow": {
     "slide_type": "subslide"
    }
   },
   "outputs": [
    {
     "name": "stdout",
     "output_type": "stream",
     "text": [
      "Tensor vazio, dimensões 3x4x2 \n",
      "[[[0.6531771  0.74890664]\n",
      "  [0.65356987 0.74771481]\n",
      "  [0.96130674 0.0083883 ]\n",
      "  [0.10644438 0.29870371]]\n",
      "\n",
      " [[0.65641118 0.80981255]\n",
      "  [0.87217591 0.9646476 ]\n",
      "  [0.72368535 0.64247533]\n",
      "  [0.71745362 0.46759901]]\n",
      "\n",
      " [[0.32558468 0.43964461]\n",
      "  [0.72968908 0.99401459]\n",
      "  [0.67687371 0.79082252]\n",
      "  [0.17091426 0.02684928]]]\n",
      "\n"
     ]
    }
   ],
   "source": [
    "# Cria um vetor vazio com um determinado formato\n",
    "tensor_vazio = np.empty((3,4,2))\n",
    "print(\"Tensor vazio, dimensões 3x4x2 \\n{}\\n\".format(tensor_vazio))"
   ]
  },
  {
   "cell_type": "code",
   "execution_count": 30,
   "metadata": {
    "slideshow": {
     "slide_type": "subslide"
    }
   },
   "outputs": [
    {
     "name": "stdout",
     "output_type": "stream",
     "text": [
      "Vetor de zeros como modelo \n",
      " [0 0 0 0 0]\n",
      "Matriz de uns como modelo \n",
      " [[1 1 1]\n",
      " [1 1 1]]\n",
      "Tensor de vazio como modelo \n",
      " [[1 2 3]\n",
      " [4 5 6]\n",
      " [7 8 9]]\n"
     ]
    }
   ],
   "source": [
    "# Criando vetores com base em vetores existentes\n",
    "print(\"Vetor de zeros como modelo \\n {}\".format(np.zeros_like(vetor)))\n",
    "print(\"Matriz de uns como modelo \\n {}\".format(np.ones_like(matriz)))\n",
    "print(\"Tensor de vazio como modelo \\n {}\".format(np.empty_like(tensor)))"
   ]
  },
  {
   "cell_type": "markdown",
   "metadata": {},
   "source": [
    "## Operações\n",
    "## Indices, fatiamento(slices) e iteração"
   ]
  },
  {
   "cell_type": "code",
   "execution_count": 31,
   "metadata": {},
   "outputs": [
    {
     "name": "stdout",
     "output_type": "stream",
     "text": [
      "Selecionando limite superior:\n",
      " [5 3 0 6 8]\n",
      "\n",
      "Selecionando limite inferior: \n",
      "[0 5 6 8 9]\n",
      "\n",
      "Selecionando uma intervalo: \n",
      "[6 8 0 5 6]\n",
      "\n",
      "Avançando com passo 2: \n",
      "[5 0 8 5 8]\n",
      "\n",
      "Invertendo o vetor: \n",
      "[5 3 0 6 8 0 5 6 8]\n",
      "\n"
     ]
    }
   ],
   "source": [
    "vetor_rand=np.random.randint(0,10,10)\n",
    "# Seleção de intervalos\n",
    "# Selecionando intervalo máximo excluindo valor no indice máximo\n",
    "print(\"Selecionando limite superior:\\n {}\\n\".format(vetor_rand[:5]))\n",
    "\n",
    "# Selecionando intervalo com mínimo\n",
    "print(\"Selecionando limite inferior: \\n{}\\n\".format(vetor_rand[5:]))\n",
    "\n",
    "# Selecionando uma faixa \n",
    "print(\"Selecionando uma intervalo: \\n{}\\n\".format(vetor_rand[3:8]))\n",
    "\n",
    "# Selecionando um passo de avanço\n",
    "print(\"Avançando com passo 2: \\n{}\\n\".format(vetor_rand[::2]))\n",
    "\n",
    "# Inversão\n",
    "print(\"Invertendo o vetor: \\n{}\\n\".format(vetor_rand[:-1]))"
   ]
  },
  {
   "cell_type": "code",
   "execution_count": 32,
   "metadata": {},
   "outputs": [],
   "source": [
    "# Iteração sobre vetores\n"
   ]
  },
  {
   "cell_type": "code",
   "execution_count": 33,
   "metadata": {},
   "outputs": [],
   "source": [
    "# Iteração sobre matrizes"
   ]
  },
  {
   "cell_type": "code",
   "execution_count": 34,
   "metadata": {},
   "outputs": [],
   "source": [
    "# Iteração sobre tensores"
   ]
  },
  {
   "cell_type": "markdown",
   "metadata": {},
   "source": [
    "## Redimensionamento de arrays"
   ]
  },
  {
   "cell_type": "code",
   "execution_count": 35,
   "metadata": {},
   "outputs": [],
   "source": [
    "# Obtendo as formas\n",
    "# Propriedades Tamanho e dimensões\n",
    "print(\"Propriedades do vetor: Tamanho: {}, Dimensão{}\".format(vetor.size, vetor.shape))\n",
    "print(\"Propriedades da matriz: Tamanho: {}, Dimensão{}\".format(matriz.size, matriz.shape))\n",
    "print(\"Propriedades do tensor: Tamanho: {}, Dimensão{}\".format(tensor.size, tensor.shape))"
   ]
  },
  {
   "cell_type": "code",
   "execution_count": 49,
   "metadata": {},
   "outputs": [
    {
     "name": "stdout",
     "output_type": "stream",
     "text": [
      "Matriz planificada: \n",
      " [4 5 6 9 8 7] \n",
      "\n",
      "Tensor planificado: \n",
      " [1 2 3 4 5 6 7 8 9] \n",
      "\n"
     ]
    }
   ],
   "source": [
    "# Planificando uma matriz ou tensor\n",
    "print(\"Matriz planificada: \\n {} \\n\".format(matriz.ravel()))\n",
    "print(\"Tensor planificado: \\n {} \\n\".format(tensor.ravel()))"
   ]
  },
  {
   "cell_type": "code",
   "execution_count": 61,
   "metadata": {},
   "outputs": [
    {
     "name": "stdout",
     "output_type": "stream",
     "text": [
      "Modificando a forma da matriz \n",
      "[[4 5 6]\n",
      " [9 8 7]]\n",
      "\n",
      "Matriz original \n",
      "[[4 5]\n",
      " [6 9]\n",
      " [8 7]]\n",
      "\n",
      "Usando reshape, o retorno é None\n",
      "None\n",
      "\n",
      "Mas a mudança foi feita na matriz em si\n",
      "[[4 5]\n",
      " [6 9]\n",
      " [8 7]]\n",
      " \n"
     ]
    }
   ],
   "source": [
    "# Reshape, não modifica o array original, apenas retorna o novo formato\n",
    "print(\"Modificando a forma da matriz \\n{}\\n\".format(matriz.reshape(2,3)))\n",
    "print(\"Matriz original \\n{}\\n\".format(matriz))"
   ]
  },
  {
   "cell_type": "code",
   "execution_count": null,
   "metadata": {},
   "outputs": [],
   "source": [
    "# Resize modifica o array em si mesmo\n",
    "print(\"Usando reshape, o retorno é None\\n{}\\n\".format(matriz.resize((3,2))))\n",
    "print(\"Mas a mudança foi feita na matriz em si\\n{}\\n \".format(matriz))"
   ]
  },
  {
   "cell_type": "markdown",
   "metadata": {},
   "source": [
    "## Broadcasting ou propagação\n",
    "\n",
    "Estes termos são utilizados para descrever como o NumPy trata operações aritméticas com arrays de formas diferentes. O array menor propaga sobre o maior, caso eles tenham dimensões compatíveis.\n",
    "\n",
    "\n",
    "### Regras gerais de propagação\n",
    "\n",
    "Quando for realizar operações com dois arrays, NumPy compara os as dimensões elemento a elemento. Começando pela dimensão mais ao final.\n",
    "Duas dimensões são compatíveis quando\n",
    "\n",
    "1. Elas são iguais, ou\n",
    "2. Uma delas é 1\n",
    "\n",
    "OU seja, exemplificando em termos de dimensões temos que a propagação funciona em sistemas com dimensões como no exmplo abaixo:\n",
    "    5 x 1 e 1\n",
    "    3 x 2 e 2\n",
    "4 x 2 x 3 e 1\n",
    "4 x 2 x 3 e 3\n",
    "4 x 2 x 3 e 4 x 1 x 1\n",
    "4 x 2 x 3 e 4 x 1 x 3\n",
    "\n",
    "E por aí vai. Confuso não?! Nos exemplos espero deixar um pouco mais claro.\n",
    "\n",
    "[Documentação aqui](https://docs.scipy.org/doc/numpy-1.10.1/user/basics.broadcasting.html)\n",
    "\n",
    "[Ilustração dos conceitos de Broadcast(em inglês)](http://scipy.github.io/old-wiki/pages/EricsBroadcastingDoc)"
   ]
  },
  {
   "cell_type": "code",
   "execution_count": 37,
   "metadata": {},
   "outputs": [
    {
     "data": {
      "text/plain": [
       "array([[18, 50, 82, 57],\n",
       "       [46, 58, 23, 21],\n",
       "       [ 7, 81, 63,  0],\n",
       "       [90, 44, 57, 14],\n",
       "       [26, 43, 30, 99]])"
      ]
     },
     "execution_count": 37,
     "metadata": {},
     "output_type": "execute_result"
    }
   ],
   "source": [
    "# Exemplos de broadcast\n",
    "np.random.randint(0,100,size=20).reshape(5,4)"
   ]
  },
  {
   "cell_type": "markdown",
   "metadata": {},
   "source": [
    "### Transposição de matrizes\n",
    "\n",
    "Transposição de uma matriz consiste em uma matriz espelho da original, através da diagonal principal. A transposta é obitida trocando-se a posição das linhas e colunas. Denota-se a tranposta da matriz **A** por **A^T**\n",
    "\n",
    "[Função transpose do Numpy](https://docs.scipy.org/doc/numpy-1.14.0/reference/generated/numpy.transpose.html)"
   ]
  },
  {
   "cell_type": "code",
   "execution_count": 39,
   "metadata": {},
   "outputs": [
    {
     "name": "stdout",
     "output_type": "stream",
     "text": [
      "Matriz \n",
      " [[4 5 6]\n",
      " [9 8 7]]\n",
      "Matriz Transposta \n",
      " [[4 9]\n",
      " [5 8]\n",
      " [6 7]]\n",
      "Tensor \n",
      " [[1 2 3]\n",
      " [4 5 6]\n",
      " [7 8 9]]\n",
      "Tensor Transposto, usando a forma simplificada \n",
      " [[1 4 7]\n",
      " [2 5 8]\n",
      " [3 6 9]]\n"
     ]
    }
   ],
   "source": [
    "print(\"Matriz \\n {}\".format(matriz))\n",
    "print(\"Matriz Transposta \\n {}\".format(np.transpose(matriz)))"
   ]
  },
  {
   "cell_type": "code",
   "execution_count": null,
   "metadata": {},
   "outputs": [],
   "source": [
    "print(\"Tensor \\n {}\".format(tensor))\n",
    "print(\"Tensor Transposto, usando a forma simplificada \\n {}\".format(tensor.T))"
   ]
  },
  {
   "cell_type": "markdown",
   "metadata": {},
   "source": [
    "### Soma e subtração \n"
   ]
  },
  {
   "cell_type": "code",
   "execution_count": 22,
   "metadata": {},
   "outputs": [
    {
     "name": "stdout",
     "output_type": "stream",
     "text": [
      "Multiplicando o vetor por 3: \n",
      "[ 3  6  9 12 15]\n",
      "\n",
      "Somando 10 a matriz: \n",
      " [[14 15 16]\n",
      " [19 18 17]] \n",
      "\n",
      "Dividindo o tensor por 5: \n",
      " [[0.2 0.4 0.6]\n",
      " [0.8 1.  1.2]\n",
      " [1.4 1.6 1.8]] \n",
      "\n"
     ]
    }
   ],
   "source": [
    "# Operação com escalares\n",
    "# Aplica o conceito de propagação\n",
    "print(\"Multiplicando o vetor por 3: \\n{}\\n\".format(vetor * 3))\n",
    "print(\"Somando 10 a matriz: \\n {} \\n\".format(matriz + 10))\n",
    "print(\"Dividindo o tensor por 5: \\n {} \\n\".format(tensor / 5))"
   ]
  },
  {
   "cell_type": "code",
   "execution_count": 43,
   "metadata": {},
   "outputs": [
    {
     "data": {
      "text/plain": [
       "array([-5, -1,  1, -3, -3])"
      ]
     },
     "execution_count": 43,
     "metadata": {},
     "output_type": "execute_result"
    }
   ],
   "source": [
    "# Usando arrays de mesmo tamanho\n",
    "vetor1 = np.array([1,2,3,4,5])\n",
    "vetor2 = np.array([6,3,2,7,8])\n",
    "print(np.add(vetor1, vetor2))\n",
    "print(vetor1 + vetor2)\n"
   ]
  },
  {
   "cell_type": "code",
   "execution_count": null,
   "metadata": {},
   "outputs": [],
   "source": [
    "print(np.subtract(vetor1, vetor2))\n",
    "print(vetor1 - vetor2)"
   ]
  },
  {
   "cell_type": "code",
   "execution_count": 67,
   "metadata": {},
   "outputs": [
    {
     "data": {
      "text/plain": [
       "array([[ 1.,  2.,  3.,  4.,  5.],\n",
       "       [ 6.,  7.,  8.,  9., 10.]])"
      ]
     },
     "execution_count": 67,
     "metadata": {},
     "output_type": "execute_result"
    }
   ],
   "source": [
    "# Usando arrays de tamanhos diferentes\n",
    "matriz1 = np.arange(10).reshape(2,5)\n",
    "vetor_uns = np.ones(5)\n",
    "matriz1 + vetor_uns"
   ]
  },
  {
   "cell_type": "code",
   "execution_count": 66,
   "metadata": {},
   "outputs": [
    {
     "data": {
      "text/plain": [
       "(20,)"
      ]
     },
     "execution_count": 66,
     "metadata": {},
     "output_type": "execute_result"
    }
   ],
   "source": []
  },
  {
   "cell_type": "code",
   "execution_count": null,
   "metadata": {},
   "outputs": [],
   "source": []
  },
  {
   "cell_type": "markdown",
   "metadata": {},
   "source": [
    "### Multiplicação de matrizes e vetores"
   ]
  },
  {
   "cell_type": "code",
   "execution_count": null,
   "metadata": {},
   "outputs": [],
   "source": [
    "# Usando arrays de mesmo tamanho\n",
    "print(np.mul(vetor1, vetor2))\n",
    "print(vetor1 * vetor2)"
   ]
  },
  {
   "cell_type": "code",
   "execution_count": null,
   "metadata": {},
   "outputs": [],
   "source": [
    "print(np.divide(vetor1, vetor2))\n",
    "print(vetor1 // vetor2)"
   ]
  },
  {
   "cell_type": "code",
   "execution_count": null,
   "metadata": {},
   "outputs": [],
   "source": [
    "# Usando arrays de tamanhos diferentes"
   ]
  },
  {
   "cell_type": "markdown",
   "metadata": {},
   "source": [
    "### Matriz identidade e Matriz inversa\n",
    "\n",
    "### Dependência Linear\n",
    "\n",
    "### Norma ou módulo"
   ]
  },
  {
   "cell_type": "markdown",
   "metadata": {},
   "source": [
    "## Tipos especiais de matrizes e vetores\n",
    "\n",
    "### Unitário\n",
    "### Diagnonal\n",
    "### Simétrico\n",
    "### Ortogonal\n",
    "\n"
   ]
  },
  {
   "cell_type": "markdown",
   "metadata": {},
   "source": [
    "## Trabalhando com cópias e visões (views)"
   ]
  },
  {
   "cell_type": "markdown",
   "metadata": {},
   "source": [
    "## Referências\n",
    "\n",
    "### Em Português\n",
    "\n",
    "1. https://pt.khanacademy.org/math/linear-algebra\n",
    "2. https://www.youtube.com/watch?v=pbFZW1eTnkk\n",
    "\n",
    "### Em Inglês\n",
    "\n",
    "1. http://www.deeplearningbook.org/contents/linear_algebra.html\n",
    "2. https://www.analyticsvidhya.com/blog/2017/05/comprehensive-guide-to-linear-algebra/\n",
    "3. https://towardsdatascience.com/boost-your-data-sciences-skills-learn-linear-algebra-2c30fdd008cf\n"
   ]
  }
 ],
 "metadata": {
  "kernelspec": {
   "display_name": "Python 3",
   "language": "python",
   "name": "python3"
  },
  "language_info": {
   "codemirror_mode": {
    "name": "ipython",
    "version": 3
   },
   "file_extension": ".py",
   "mimetype": "text/x-python",
   "name": "python",
   "nbconvert_exporter": "python",
   "pygments_lexer": "ipython3",
   "version": "3.5.3"
  }
 },
 "nbformat": 4,
 "nbformat_minor": 2
}
